{
  "nbformat": 4,
  "nbformat_minor": 0,
  "metadata": {
    "colab": {
      "provenance": [],
      "authorship_tag": "ABX9TyOvKgqTJq1tZI9enG4ufuqW",
      "include_colab_link": true
    },
    "kernelspec": {
      "name": "python3",
      "display_name": "Python 3"
    },
    "language_info": {
      "name": "python"
    }
  },
  "cells": [
    {
      "cell_type": "markdown",
      "metadata": {
        "id": "view-in-github",
        "colab_type": "text"
      },
      "source": [
        "<a href=\"https://colab.research.google.com/github/Sirdancce/bannerlord-banner-kings/blob/main/Copy_of_CSS_Homework.ipynb\" target=\"_parent\"><img src=\"https://colab.research.google.com/assets/colab-badge.svg\" alt=\"Open In Colab\"/></a>"
      ]
    },
    {
      "cell_type": "code",
      "execution_count": null,
      "metadata": {
        "colab": {
          "base_uri": "https://localhost:8080/"
        },
        "id": "Q0YXd9cDaIrR",
        "outputId": "ff3ab168-eec3-446b-8d5b-5b9aea01aaa2"
      },
      "outputs": [
        {
          "output_type": "stream",
          "name": "stdout",
          "text": [
            "\n",
            "--- Favorite Movie ---\n",
            "My favorite movie is Inception (2010), with an IMDb rating of 8.8. Watched: True\n",
            "\n",
            "--- Descriptive Message ---\n",
            "Inception was released in 2010 and has an IMDb rating of 8.8.\n",
            "\n",
            "--- Favorite Movies List ---\n",
            "Inception (2010) - IMDb: 8.8\n",
            "The Matrix (1999) - IMDb: 8.7\n",
            "Interstellar (2014) - IMDb: 8.6\n",
            "\n",
            "--- Favorite Actor Dictionary ---\n",
            "My favorite actor is Leonardo DiCaprio, who is 49 years old.\n",
            "Some of their notable movies include:\n",
            "- Inception\n",
            "- Titanic\n",
            "- The Revenant\n",
            "- Shutter Island\n"
          ]
        }
      ],
      "source": [
        "\n",
        "favorite_movie = {\n",
        "    \"title\": \"Inception\",\n",
        "    \"release_year\": 2010,\n",
        "    \"imdb_rating\": 8.8,\n",
        "    \"watched\": True\n",
        "}\n",
        "\n",
        "print(\"\\n--- Favorite Movie ---\")\n",
        "print(f\"My favorite movie is {favorite_movie['title']} ({favorite_movie['release_year']}), \"\n",
        "      f\"with an IMDb rating of {favorite_movie['imdb_rating']}. Watched: {favorite_movie['watched']}\")\n",
        "\n",
        "title = favorite_movie[\"title\"]\n",
        "release_year = favorite_movie[\"release_year\"]\n",
        "imdb_rating = favorite_movie[\"imdb_rating\"]\n",
        "\n",
        "message = f\"{title} was released in {release_year} and has an IMDb rating of {imdb_rating}.\"\n",
        "print(\"\\n--- Descriptive Message ---\")\n",
        "print(message)\n",
        "\n",
        "favorite_movies = [\n",
        "    {\"title\": \"Inception\", \"release_year\": 2010, \"imdb_rating\": 8.8},\n",
        "    {\"title\": \"The Matrix\", \"release_year\": 1999, \"imdb_rating\": 8.7},\n",
        "    {\"title\": \"Interstellar\", \"release_year\": 2014, \"imdb_rating\": 8.6}\n",
        "]\n",
        "\n",
        "print(\"\\n--- Favorite Movies List ---\")\n",
        "for movie in favorite_movies:\n",
        "    print(f\"{movie['title']} ({movie['release_year']}) - IMDb: {movie['imdb_rating']}\")\n",
        "\n",
        "favorite_actor = {\n",
        "    \"name\": \"Leonardo DiCaprio\",\n",
        "    \"age\": 49,\n",
        "    \"movies\": [\"Inception\", \"Titanic\", \"The Revenant\", \"Shutter Island\"]\n",
        "}\n",
        "\n",
        "print(\"\\n--- Favorite Actor Dictionary ---\")\n",
        "print(f\"My favorite actor is {favorite_actor['name']}, who is {favorite_actor['age']} years old.\")\n",
        "print(\"Some of their notable movies include:\")\n",
        "for movie in favorite_actor[\"movies\"]:\n",
        "    print(f\"- {movie}\")\n"
      ]
    }
  ]
}